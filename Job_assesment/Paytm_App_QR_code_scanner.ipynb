{
  "nbformat": 4,
  "nbformat_minor": 0,
  "metadata": {
    "colab": {
      "provenance": [],
      "authorship_tag": "ABX9TyNuUs7RYTvwG2oD47ynsFtp",
      "include_colab_link": true
    },
    "kernelspec": {
      "name": "python3",
      "display_name": "Python 3"
    },
    "language_info": {
      "name": "python"
    }
  },
  "cells": [
    {
      "cell_type": "markdown",
      "metadata": {
        "id": "view-in-github",
        "colab_type": "text"
      },
      "source": [
        "<a href=\"https://colab.research.google.com/github/Psubrat98/Assessment-Coding-Programs/blob/main/Job_assesment/Paytm_App_QR_code_scanner.ipynb\" target=\"_parent\"><img src=\"https://colab.research.google.com/assets/colab-badge.svg\" alt=\"Open In Colab\"/></a>"
      ]
    },
    {
      "cell_type": "markdown",
      "source": [
        "Installing required dependencies:"
      ],
      "metadata": {
        "id": "s70JyzTVOznj"
      }
    },
    {
      "cell_type": "code",
      "source": [
        "pip install opencv-contrib-python"
      ],
      "metadata": {
        "colab": {
          "base_uri": "https://localhost:8080/"
        },
        "id": "RlJVEH2W1Rfm",
        "outputId": "e1c093ca-ceaa-4162-af14-a2d00e051bfe"
      },
      "execution_count": 1,
      "outputs": [
        {
          "output_type": "stream",
          "name": "stdout",
          "text": [
            "Looking in indexes: https://pypi.org/simple, https://us-python.pkg.dev/colab-wheels/public/simple/\n",
            "Requirement already satisfied: opencv-contrib-python in /usr/local/lib/python3.10/dist-packages (4.7.0.72)\n",
            "Requirement already satisfied: numpy>=1.21.2 in /usr/local/lib/python3.10/dist-packages (from opencv-contrib-python) (1.22.4)\n"
          ]
        }
      ]
    },
    {
      "cell_type": "code",
      "source": [
        "pip install qrcode"
      ],
      "metadata": {
        "colab": {
          "base_uri": "https://localhost:8080/"
        },
        "id": "zosPS8Metl-h",
        "outputId": "82f5cca8-fb5f-4084-beaa-1f3abf4c4b53"
      },
      "execution_count": 2,
      "outputs": [
        {
          "output_type": "stream",
          "name": "stdout",
          "text": [
            "Looking in indexes: https://pypi.org/simple, https://us-python.pkg.dev/colab-wheels/public/simple/\n",
            "Requirement already satisfied: qrcode in /usr/local/lib/python3.10/dist-packages (7.4.2)\n",
            "Requirement already satisfied: typing-extensions in /usr/local/lib/python3.10/dist-packages (from qrcode) (4.5.0)\n",
            "Requirement already satisfied: pypng in /usr/local/lib/python3.10/dist-packages (from qrcode) (0.20220715.0)\n"
          ]
        }
      ]
    },
    {
      "cell_type": "markdown",
      "source": [
        "Loading required lliabraries:\n"
      ],
      "metadata": {
        "id": "uz6ThBXo3X5-"
      }
    },
    {
      "cell_type": "code",
      "execution_count": 3,
      "metadata": {
        "id": "0OoIljfx3Ql9"
      },
      "outputs": [],
      "source": [
        "import qrcode\n",
        "import cv2\n",
        "import numpy as np\n",
        "from google.colab.patches import cv2_imshow"
      ]
    },
    {
      "cell_type": "markdown",
      "source": [
        "Creating QR code:"
      ],
      "metadata": {
        "id": "boBqUSQU2ojI"
      }
    },
    {
      "cell_type": "code",
      "source": [
        "# Example Data\n",
        "data = \"https://www.thepythoncode.com\"\n",
        "# Output File name\n",
        "file_name = 'site.png'\n",
        "# Generate QR code\n",
        "image = qrcode.make(data)\n",
        "# Save image to a file\n",
        "image.save(file_name)"
      ],
      "metadata": {
        "id": "kCS-tj_Q1Fyy"
      },
      "execution_count": 4,
      "outputs": []
    },
    {
      "cell_type": "code",
      "source": [
        "# Read image\n",
        "img = cv2.imread('/content/site.png')\n",
        "# Show image\n",
        "cv2_imshow(img)"
      ],
      "metadata": {
        "colab": {
          "base_uri": "https://localhost:8080/",
          "height": 387
        },
        "id": "Ho2Zw2mt3U-L",
        "outputId": "71e23528-bb30-46f4-fee3-9c3075b1a888"
      },
      "execution_count": 5,
      "outputs": [
        {
          "output_type": "display_data",
          "data": {
            "text/plain": [
              "<PIL.Image.Image image mode=RGB size=370x370 at 0x7F68B8B89540>"
            ],
            "image/png": "[encoded data removed]"
          },
          "metadata": {}
        }
      ]
    },
    {
      "cell_type": "markdown",
      "source": [
        "Another way to create QR code with custom parameters:"
      ],
      "metadata": {
        "id": "vZXeZ3xKPK0u"
      }
    },
    {
      "cell_type": "code",
      "source": [
        "# initializing object\n",
        "qr = qrcode.QRCode(version=1, box_size=12, border=4)\n",
        "# Add above data to QR code\n",
        "qr.add_data(data)\n",
        "# Compile the data into QR code array\n",
        "qr.make()\n",
        "# Print the image shape\n",
        "print('Shape of Qr image:',np.array(qr.get_matrix()).shape)\n",
        "# Transfer the array into actual image\n",
        "image2 = qr.make_image(fill_color = 'white', back_color = 'black')\n",
        "# Save it to file\n",
        "image2.save('Site_inversed.png')"
      ],
      "metadata": {
        "id": "dw-_dskMPTBy",
        "colab": {
          "base_uri": "https://localhost:8080/"
        },
        "outputId": "a952e9fc-65ae-41ba-b31d-9b408893f2b2"
      },
      "execution_count": 6,
      "outputs": [
        {
          "output_type": "stream",
          "name": "stdout",
          "text": [
            "Shape of Qr image: (37, 37)\n"
          ]
        }
      ]
    },
    {
      "cell_type": "code",
      "source": [
        "# Read image\n",
        "img2 = cv2.imread('/content/Site_inversed.png')\n",
        "# Show image\n",
        "cv2_imshow(img2)"
      ],
      "metadata": {
        "colab": {
          "base_uri": "https://localhost:8080/",
          "height": 461
        },
        "id": "dNng_aILRspA",
        "outputId": "9826818d-66ab-44dc-d0d0-b72420732901"
      },
      "execution_count": 7,
      "outputs": [
        {
          "output_type": "display_data",
          "data": {
            "text/plain": [
              "<PIL.Image.Image image mode=RGB size=444x444 at 0x7F68B8BCFC10>"
            ],
            "image/png": "[encoded data removed]"
          },
          "metadata": {}
        }
      ]
    },
    {
      "cell_type": "code",
      "source": [
        "# initialize the cv2 QRCode detector\n",
        "detector = cv2.QRCodeDetector()"
      ],
      "metadata": {
        "id": "giDmHWsrNMcY"
      },
      "execution_count": 8,
      "outputs": []
    },
    {
      "cell_type": "code",
      "source": [
        "# Detect and decode\n",
        "data, bbox, straight_qrcode =detector.detectAndDecode(img)"
      ],
      "metadata": {
        "id": "Nmly2NIrOIYD"
      },
      "execution_count": 9,
      "outputs": []
    },
    {
      "cell_type": "code",
      "source": [
        "data"
      ],
      "metadata": {
        "colab": {
          "base_uri": "https://localhost:8080/",
          "height": 38
        },
        "id": "enwGCV_exOGF",
        "outputId": "c1c1622a-d128-464c-9881-e6c0cbb134f9"
      },
      "execution_count": 10,
      "outputs": [
        {
          "output_type": "execute_result",
          "data": {
            "text/plain": [
              "'https://www.thepythoncode.com'"
            ],
            "application/vnd.google.colaboratory.intrinsic+json": {
              "type": "string"
            }
          },
          "metadata": {},
          "execution_count": 10
        }
      ]
    },
    {
      "cell_type": "markdown",
      "source": [
        "The detectAndDecode() function takes an image as an input and decodes it to return a tuple of 3 values: the data decoded from the QR code, the output array of vertices of the found QR code quadrangle, and the output image containing rectified and binarized QR code."
      ],
      "metadata": {
        "id": "JhvdFhy6SSf0"
      }
    },
    {
      "cell_type": "markdown",
      "source": [
        "Now We just need data and bbox here, bbox will help us draw the quadrangle in the image and data will be printed to the console!"
      ],
      "metadata": {
        "id": "ewsDdSvkSWgu"
      }
    },
    {
      "cell_type": "code",
      "source": [
        "# if there is a QR code\n",
        "if bbox is not None:\n",
        "  print(f\"QRCode data:\\n{data}\")\n",
        "else:\n",
        "  print(\"QR code not detected\")\n",
        "  # display the image with lines\n",
        "  # length of bounding box\n",
        "  n = len(bbox)\n",
        "  for i in range(n):\n",
        "    nextPointIndex = (i+1) % n\n",
        "    cv2.line(image, tuple(points[i][0]), tuple(points[nextPointIndex][0]), (255,0,0), 5)"
      ],
      "metadata": {
        "id": "rA_KnwAwOjr4",
        "colab": {
          "base_uri": "https://localhost:8080/"
        },
        "outputId": "bb4fb3b1-9216-412e-88a3-f4f2d1383b70"
      },
      "execution_count": 11,
      "outputs": [
        {
          "output_type": "stream",
          "name": "stdout",
          "text": [
            "QRCode data:\n",
            "https://www.thepythoncode.com\n"
          ]
        }
      ]
    },
    {
      "cell_type": "markdown",
      "source": [
        "Finally, let's show the image and quit when a key is pressed:"
      ],
      "metadata": {
        "id": "skdxbCzeXl0p"
      }
    },
    {
      "cell_type": "code",
      "source": [
        "# display the result\n",
        "cv2_imshow(img)"
      ],
      "metadata": {
        "colab": {
          "base_uri": "https://localhost:8080/",
          "height": 387
        },
        "id": "bKPObKRWUogs",
        "outputId": "52ec95c9-9c18-4b44-9535-1b7b2085db61"
      },
      "execution_count": 12,
      "outputs": [
        {
          "output_type": "display_data",
          "data": {
            "text/plain": [
              "<PIL.Image.Image image mode=RGB size=370x370 at 0x7F68B8BCF4C0>"
            ],
            "image/png": "[encoded data removed]"
          },
          "metadata": {}
        }
      ]
    },
    {
      "cell_type": "markdown",
      "source": [
        "Now we have to detect QR code through canera:"
      ],
      "metadata": {
        "id": "TrPgMzM2X4x1"
      }
    },
    {
      "cell_type": "code",
      "source": [
        "# initalize the cam\n",
        "cap = cv2.VideoCapture(0)\n",
        "while True:\n",
        "  _, img = cap.read()\n",
        "  # detect and decode\n",
        "cap_data, cap_bbox, _ = detector.detectAndDecode(img)\n",
        "# check if there is a QRCode in the image\n",
        "if cap_bbox is not None:\n",
        "  # display the image with lines\n",
        "  for i in range(len(cap_bbox)):\n",
        "    # draw all lines\n",
        "    cv2.line(img, tuple(Cap_bbox[i][0]), tuple(Cap_bbox[(i+1) % len(Cap_bbox)][0]), color=(255, 0, 0), thickness=2)\n",
        "    if Cap_data:\n",
        "      print(\"[+] QR Code detected, data:\", Cap_data)\n",
        "# display the result\n",
        "cv2_imshow(img)    \n",
        "if cv2.waitKey(1) == ord(\"q\"):\n",
        "  break\n",
        "  cap.release()"
      ],
      "metadata": {
        "id": "AEjUlGzEXpuS"
      },
      "execution_count": null,
      "outputs": []
    },
    {
      "cell_type": "code",
      "source": [],
      "metadata": {
        "id": "aqeiDGvDt1IS"
      },
      "execution_count": null,
      "outputs": []
    }
  ]
}