{
  "nbformat": 4,
  "nbformat_minor": 0,
  "metadata": {
    "colab": {
      "provenance": [],
      "authorship_tag": "ABX9TyMGLCmwtQgqdSWmUGwIkArG",
      "include_colab_link": true
    },
    "kernelspec": {
      "name": "python3",
      "display_name": "Python 3"
    },
    "language_info": {
      "name": "python"
    }
  },
  "cells": [
    {
      "cell_type": "markdown",
      "metadata": {
        "id": "view-in-github",
        "colab_type": "text"
      },
      "source": [
        "<a href=\"https://colab.research.google.com/github/Psubrat98/Assessment-Coding-Programs/blob/main/TCS/Find_Invalid_Input_values.ipynb\" target=\"_parent\"><img src=\"https://colab.research.google.com/assets/colab-badge.svg\" alt=\"Open In Colab\"/></a>"
      ]
    },
    {
      "cell_type": "code",
      "execution_count": null,
      "metadata": {
        "colab": {
          "base_uri": "https://localhost:8080/"
        },
        "id": "9gI-lH24nXlp",
        "outputId": "03ef9ddf-699e-4463-d848-8a2bce856219"
      },
      "outputs": [
        {
          "output_type": "stream",
          "name": "stdout",
          "text": [
            "Enter the value of v:200\n",
            "Enter the value of w:540\n",
            "TW=130 FW=70\n"
          ]
        }
      ],
      "source": [
        "v = int(input('Enter the value of v:'))\n",
        "w = int(input('Enter the value of w:'))\n",
        "\n",
        "if 2<=w or w%2 == 0 or v<w:\n",
        "  x = ((4*v)-w)//2\n",
        "  print(\"TW={0} FW={1}\".format(x,v-x))\n",
        "else:\n",
        "  print('Invalid Input')"
      ]
    }
  ]
}